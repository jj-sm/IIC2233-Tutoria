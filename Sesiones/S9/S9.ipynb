{
 "cells": [
  {
   "cell_type": "markdown",
   "id": "ab7a7aee",
   "metadata": {},
   "source": [
    "# Repaso Sesiones Anteriores\n",
    "\n",
    "> PyQt5, Networking, APIs, Threading\n",
    "\n",
    "## Preguntas Pasadas\n",
    "\n",
    "### Threading\n",
    "\n",
    "![alt text](Resources/image.png)\n",
    "\n",
    "<details>\n",
    "  <summary>Respuesta</summary>\n",
    "  A y C\n",
    "</details>\n",
    "\n",
    "---\n",
    "\n",
    "![alt text](Resources/image-1.png)\n",
    "\n",
    "<details>\n",
    "  <summary>Respuesta</summary>\n",
    "  A, B, C y D\n",
    "</details>\n",
    "\n",
    "---\n",
    "\n",
    "![alt text](Resources/image-2.png)\n",
    "\n",
    "<details>\n",
    "  <summary>Respuesta</summary>\n",
    "  C\n",
    "</details>\n",
    "\n",
    "### Networking\n",
    "\n",
    "![alt text](Resources/image-3.png)\n",
    "\n",
    "<details>\n",
    "  <summary>Respuesta</summary>\n",
    "  D\n",
    "</details>\n",
    "\n",
    "---\n",
    "\n",
    "### Interfaces Gráficas\n",
    "\n",
    "![alt text](Resources/image-5.png)\n",
    "\n",
    "<details>\n",
    "  <summary>Respuesta</summary>\n",
    "  A\n",
    "</details>\n",
    "\n",
    "\n",
    "# Serialización y Networking\n",
    "\n",
    "Antes serializamos datos a `json`, ahora los queremos serializar a bytes.\n",
    "\n",
    "## Bytes\n",
    "\n",
    "Un $\\text{byte} = 8 \\ \\text{bits}$, donde de modo decimal estos pueden tener un valor de 0 a 255.\n",
    "\n",
    "Con `pickle` estos se ven así\n"
   ]
  },
  {
   "cell_type": "code",
   "execution_count": 103,
   "id": "6bc1b30c",
   "metadata": {},
   "outputs": [
    {
     "name": "stdout",
     "output_type": "stream",
     "text": [
      "b'\\x80\\x04\\x95\\x0b\\x00\\x00\\x00\\x00\\x00\\x00\\x00\\x8c\\x07IIC2233\\x94.'\n",
      "<class 'bytes'>\n"
     ]
    }
   ],
   "source": [
    "import pickle\n",
    "\n",
    "palabra = 'IIC2233'\n",
    "\n",
    "palabra_bytes: bytes = pickle.dumps(palabra)\n",
    "print(palabra_bytes)\n",
    "print(type(palabra_bytes))"
   ]
  },
  {
   "cell_type": "code",
   "execution_count": 109,
   "id": "ab0fc7c6",
   "metadata": {},
   "outputs": [
    {
     "ename": "SyntaxError",
     "evalue": "bytes can only contain ASCII literal characters (593050947.py, line 1)",
     "output_type": "error",
     "traceback": [
      "  \u001b[36mCell\u001b[39m\u001b[36m \u001b[39m\u001b[32mIn[109]\u001b[39m\u001b[32m, line 1\u001b[39m\n\u001b[31m    \u001b[39m\u001b[31mprint(b'Holá')\u001b[39m\n          ^\n\u001b[31mSyntaxError\u001b[39m\u001b[31m:\u001b[39m bytes can only contain ASCII literal characters\n"
     ]
    }
   ],
   "source": [
    "print(b'Holá')"
   ]
  },
  {
   "cell_type": "markdown",
   "id": "3922f073",
   "metadata": {},
   "source": [
    "Como se ve, `pickle` serializa objetos de python con `pickle.dumps()` en notacion hexadecimal (Base 16)."
   ]
  },
  {
   "cell_type": "code",
   "execution_count": 110,
   "id": "3c47de44",
   "metadata": {},
   "outputs": [
    {
     "name": "stdout",
     "output_type": "stream",
     "text": [
      "[128, 4, 149, 11, 0, 0, 0, 0, 0, 0, 0, 140, 7, 73, 73, 67, 50, 50, 51, 51, 148, 46]\n"
     ]
    }
   ],
   "source": [
    "print(list(palabra_bytes))"
   ]
  },
  {
   "cell_type": "markdown",
   "id": "a0cc7014",
   "metadata": {},
   "source": [
    "| Dígito | Valor decimal |\n",
    "|---|---|\n",
    "| A\t| 10 |\n",
    "| B\t| 11 |\n",
    "| C\t| 12 |\n",
    "| D\t| 13 |\n",
    "| E\t| 14 |\n",
    "| F\t| 15 |\n",
    "\n",
    "Entonces el primer byte:\n",
    "\n",
    "$$\\verb|\\x80| \\to \\verb|\\x|: \\ \\text{Hexadecimal}$$\n",
    "\n",
    "$$\\verb|80| \\to 8 \\times 16^1 + 0 \\times 16^0 = 128$$\n",
    "\n"
   ]
  },
  {
   "cell_type": "code",
   "execution_count": 111,
   "id": "1669b9c5",
   "metadata": {},
   "outputs": [
    {
     "name": "stdout",
     "output_type": "stream",
     "text": [
      "128\n",
      "158\n"
     ]
    }
   ],
   "source": [
    "n_1 = '0x80'\n",
    "n_2 = '0x9E'\n",
    "\n",
    "print(int(n_1, 16))\n",
    "print(int(n_2, 16))"
   ]
  },
  {
   "cell_type": "code",
   "execution_count": 93,
   "id": "dfe1d13c",
   "metadata": {},
   "outputs": [
    {
     "name": "stdout",
     "output_type": "stream",
     "text": [
      "@\n"
     ]
    }
   ],
   "source": [
    "print(chr(int.from_bytes(b'\\x40', 'big')))"
   ]
  },
  {
   "cell_type": "markdown",
   "id": "309cf5df",
   "metadata": {},
   "source": [
    "Big? Little?"
   ]
  },
  {
   "cell_type": "markdown",
   "id": "7816d0bf",
   "metadata": {},
   "source": [
    "Big-endian\tEl byte más significativo va primero\n",
    "Little-endian\tEl byte menos significativo va primero\n",
    "\n",
    "$$0x1234 = 1*16^3 + 2*16^2 + 3*16^1 + 4*16^0\n",
    "$$"
   ]
  },
  {
   "cell_type": "code",
   "execution_count": 119,
   "id": "a36b8bbf",
   "metadata": {},
   "outputs": [
    {
     "name": "stdout",
     "output_type": "stream",
     "text": [
      "b'\\x00\\x00\\x00\\x12'\n",
      "b'\\x12\\x00'\n",
      "18\n",
      "301989888\n",
      "18\n",
      "4608\n"
     ]
    }
   ],
   "source": [
    "\n",
    "num = '0x12' # \\x12 \\x34\n",
    "\n",
    "big_endian = int(num, 16).to_bytes(4, byteorder='big')\n",
    "print(big_endian)\n",
    "\n",
    "little_endian = int(num, 16).to_bytes(2, byteorder='little')\n",
    "print(little_endian) \n",
    "\n",
    "print(int.from_bytes(big_endian, 'big'))\n",
    "print(int.from_bytes(big_endian, 'little'))\n",
    "print(int.from_bytes(little_endian, 'little'))\n",
    "print(int.from_bytes(little_endian, 'big'))\n",
    "\n"
   ]
  },
  {
   "cell_type": "code",
   "execution_count": 95,
   "id": "57eba42f",
   "metadata": {},
   "outputs": [
    {
     "name": "stdout",
     "output_type": "stream",
     "text": [
      "b'\\x124'\n",
      "b'4\\x12'\n",
      "4660\n",
      "13330\n"
     ]
    }
   ],
   "source": [
    "\n",
    "num = 4660\n",
    "\n",
    "big_endian = num.to_bytes(2, byteorder='big')\n",
    "print(big_endian)\n",
    "\n",
    "little_endian = num.to_bytes(2, byteorder='little')\n",
    "print(little_endian) \n",
    "\n",
    "print(int.from_bytes(big_endian, 'big'))\n",
    "print(int.from_bytes(big_endian, 'little'))\n"
   ]
  },
  {
   "cell_type": "markdown",
   "id": "f3125a9a",
   "metadata": {},
   "source": [
    "## Bytes y Encoding\n",
    "\n",
    "En python el objeto bytes se define así"
   ]
  },
  {
   "cell_type": "code",
   "execution_count": 120,
   "id": "00908ecd",
   "metadata": {},
   "outputs": [
    {
     "name": "stdout",
     "output_type": "stream",
     "text": [
      "Hello\n"
     ]
    }
   ],
   "source": [
    "bytes_obj: bytes = b'\\x48\\x65\\x6c\\x6c\\x6f'\n",
    "print(bytes_obj.decode('utf-8'))  "
   ]
  },
  {
   "cell_type": "code",
   "execution_count": 97,
   "id": "2597fc02",
   "metadata": {},
   "outputs": [
    {
     "name": "stdout",
     "output_type": "stream",
     "text": [
      "Hello\n"
     ]
    }
   ],
   "source": [
    "bytes_arr: bytes = bytes([72, 101, 108, 108, 111])\n",
    "print(bytes_arr.decode('utf-8'))"
   ]
  },
  {
   "cell_type": "code",
   "execution_count": 98,
   "id": "411db66a",
   "metadata": {},
   "outputs": [
    {
     "name": "stdout",
     "output_type": "stream",
     "text": [
      "b'Hello'\n"
     ]
    }
   ],
   "source": [
    "get_bytes = b'Hello'\n",
    "print(get_bytes)"
   ]
  },
  {
   "cell_type": "code",
   "execution_count": 121,
   "id": "e5b7edd2",
   "metadata": {},
   "outputs": [
    {
     "name": "stdout",
     "output_type": "stream",
     "text": [
      "b'Hello\\x01'\n"
     ]
    }
   ],
   "source": [
    "get_bytes = b'Hello\\x01'\n",
    "print(get_bytes)"
   ]
  },
  {
   "cell_type": "markdown",
   "id": "9acea834",
   "metadata": {},
   "source": [
    "También tenemos `bytearrays` que son **listas** de bytes."
   ]
  },
  {
   "cell_type": "code",
   "execution_count": 100,
   "id": "7787dd2b",
   "metadata": {},
   "outputs": [
    {
     "name": "stdout",
     "output_type": "stream",
     "text": [
      "bytearray(b'Hello\\x01')\n"
     ]
    }
   ],
   "source": [
    "array = bytearray(get_bytes)\n",
    "print(array)"
   ]
  },
  {
   "cell_type": "markdown",
   "id": "a6324e22",
   "metadata": {},
   "source": [
    "### Chunks\n",
    "\n",
    "Usualmente se envían paquetes o cajas de bytes, no todo al tiempo. "
   ]
  },
  {
   "cell_type": "code",
   "execution_count": 122,
   "id": "8b1a00cb",
   "metadata": {},
   "outputs": [
    {
     "name": "stdout",
     "output_type": "stream",
     "text": [
      "b'El hijo de rana, Rinr\\xc3\\xadn renacua' 32\n",
      "b'jo\\nSali\\xc3\\xb3 esta ma\\xc3\\xb1ana muy tieso' 32\n",
      "b' y muy majo\\nCon pantal\\xc3\\xb3n corto,' 32\n",
      "b' corbata a la moda\\nSombrero enci' 32\n",
      "b'ntado y chupa de boda.\\n-\\xc2\\xa1Muchac' 32\n",
      "b'ho, no salgas!- le grita mam\\xc3\\xa1\\np' 32\n",
      "b'ero \\xc3\\xa9l hace un gesto y orondo s' 32\n",
      "b'e va.\\nHall\\xc3\\xb3 en el camino, a un ' 32\n",
      "b'rat\\xc3\\xb3n vecino\\nY le dijo: -\\xc2\\xa1amig' 32\n",
      "b'o!- venga usted conmigo,\\nVisitem' 32\n",
      "b'os juntos a do\\xc3\\xb1a ratona, ratona' 32\n",
      "b'\\nY habr\\xc3\\xa1 francachela y habr\\xc3\\xa1 c' 32\n",
      "b'omilona. ' 9\n"
     ]
    }
   ],
   "source": [
    "text = \"\"\"El hijo de rana, Rinrín renacuajo\n",
    "Salió esta mañana muy tieso y muy majo\n",
    "Con pantalón corto, corbata a la moda\n",
    "Sombrero encintado y chupa de boda.\n",
    "-¡Muchacho, no salgas!- le grita mamá\n",
    "pero él hace un gesto y orondo se va.\n",
    "Halló en el camino, a un ratón vecino\n",
    "Y le dijo: -¡amigo!- venga usted conmigo,\n",
    "Visitemos juntos a doña ratona, ratona\n",
    "Y habrá francachela y habrá comilona. \"\"\"\n",
    "\n",
    "ejemplo = text.encode('utf-8')\n",
    "\n",
    "TAMANO_CHUNK = 2**5\n",
    "\n",
    "while ejemplo:\n",
    "    chunk = ejemplo[:TAMANO_CHUNK]\n",
    "    ejemplo = ejemplo[TAMANO_CHUNK:]\n",
    "    print(chunk, len(chunk))"
   ]
  },
  {
   "cell_type": "markdown",
   "id": "9d666e8b",
   "metadata": {},
   "source": [
    "### Enviar Información\n",
    "\n",
    "Usualmente existen protocolos y el cliente y receptor se ponen de acuerdo en enviar la información en chunks definidos. Por esto todos deben tener la misma longitud."
   ]
  },
  {
   "cell_type": "code",
   "execution_count": 123,
   "id": "9c46ae3c",
   "metadata": {},
   "outputs": [
    {
     "name": "stdout",
     "output_type": "stream",
     "text": [
      "0 b'El hijo de rana, Rinr\\xc3\\xadn renacua' 32\n",
      "1 b'jo\\nSali\\xc3\\xb3 esta ma\\xc3\\xb1ana muy tieso' 32\n",
      "2 b' y muy majo\\nCon pantal\\xc3\\xb3n corto,' 32\n",
      "3 b' corbata a la moda\\nSombrero enci' 32\n",
      "4 b'ntado y chupa de boda.\\n-\\xc2\\xa1Muchac' 32\n",
      "5 b'ho, no salgas!- le grita mam\\xc3\\xa1\\np' 32\n",
      "6 b'ero \\xc3\\xa9l hace un gesto y orondo s' 32\n",
      "7 b'e va.\\nHall\\xc3\\xb3 en el camino, a un ' 32\n",
      "8 b'rat\\xc3\\xb3n vecino\\nY le dijo: -\\xc2\\xa1amig' 32\n",
      "9 b'o!- venga usted conmigo,\\nVisitem' 32\n",
      "10 b'os juntos a do\\xc3\\xb1a ratona, ratona' 32\n",
      "11 b'\\nY habr\\xc3\\xa1 francachela y habr\\xc3\\xa1 c' 32\n",
      "12 b'omilona. \\x00\\x00\\x00\\x00\\x00\\x00\\x00\\x00\\x00\\x00\\x00\\x00\\x00\\x00\\x00\\x00\\x00\\x00\\x00\\x00\\x00\\x00\\x00' 32\n"
     ]
    }
   ],
   "source": [
    "def enviar_ejemplo(bytes_obj: bytes, tamano_chunk: int):\n",
    "    while bytes_obj:\n",
    "        chunk = bytes_obj[:tamano_chunk]\n",
    "        bytes_obj = bytes_obj[tamano_chunk:]\n",
    "        if len(chunk) < tamano_chunk:\n",
    "            chunk = chunk.ljust(tamano_chunk, b'\\x00')\n",
    "        yield chunk\n",
    "\n",
    "for i, chunk in enumerate(enviar_ejemplo(text.encode('utf-8'), TAMANO_CHUNK)):\n",
    "    print(i, chunk, len(chunk))"
   ]
  },
  {
   "cell_type": "markdown",
   "id": "c1295f16",
   "metadata": {},
   "source": [
    "## Actividad\n",
    "\n",
    "AC7"
   ]
  },
  {
   "cell_type": "markdown",
   "id": "ada15059",
   "metadata": {},
   "source": [
    "\n",
    "\n",
    "\n",
    "\n",
    "### Preguntas\n",
    "\n",
    "![alt text](Resources/image-4.png)\n",
    "\n",
    "<details>\n",
    "  <summary>Respuesta</summary>\n",
    "  C\n",
    "</details>\n",
    "\n",
    "---\n",
    "\n",
    "![alt text](Resources/image-6.png) \n",
    "\n",
    "<details>\n",
    "  <summary>Respuesta</summary>\n",
    "  A\n",
    "</details>\n"
   ]
  },
  {
   "cell_type": "markdown",
   "id": "df51f9df",
   "metadata": {},
   "source": []
  }
 ],
 "metadata": {
  "kernelspec": {
   "display_name": "Python 3",
   "language": "python",
   "name": "python3"
  },
  "language_info": {
   "codemirror_mode": {
    "name": "ipython",
    "version": 3
   },
   "file_extension": ".py",
   "mimetype": "text/x-python",
   "name": "python",
   "nbconvert_exporter": "python",
   "pygments_lexer": "ipython3",
   "version": "3.13.3"
  }
 },
 "nbformat": 4,
 "nbformat_minor": 5
}
